{
 "cells": [
  {
   "cell_type": "code",
   "execution_count": 5,
   "id": "2d335c6f",
   "metadata": {},
   "outputs": [
    {
     "name": "stdout",
     "output_type": "stream",
     "text": [
      "Sample List: (8, 2, 3, 0, 7)\n",
      "Expected Output: 20\n",
      "8+2+3+0+7= 20\n"
     ]
    }
   ],
   "source": [
    "def sum(n):\n",
    "    total = 0 \n",
    "    for x in n:\n",
    "        total +=x\n",
    "    return total\n",
    "\n",
    "my_list = (8,2,3,0,7)\n",
    "print(\"Sample List:\",my_list)\n",
    "print(\"Expected Output:\",sum(my_list))\n",
    "print(\"8+2+3+0+7=\",sum(my_list))"
   ]
  }
 ],
 "metadata": {
  "kernelspec": {
   "display_name": "Python 3 (ipykernel)",
   "language": "python",
   "name": "python3"
  },
  "language_info": {
   "codemirror_mode": {
    "name": "ipython",
    "version": 3
   },
   "file_extension": ".py",
   "mimetype": "text/x-python",
   "name": "python",
   "nbconvert_exporter": "python",
   "pygments_lexer": "ipython3",
   "version": "3.10.9"
  }
 },
 "nbformat": 4,
 "nbformat_minor": 5
}
